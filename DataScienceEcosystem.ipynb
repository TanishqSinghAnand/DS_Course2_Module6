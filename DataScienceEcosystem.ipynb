{
 "cells": [
  {
   "cell_type": "markdown",
   "id": "343f030b",
   "metadata": {},
   "source": [
    "# Data Science Tools and Ecosystem"
   ]
  },
  {
   "cell_type": "markdown",
   "id": "473425f9",
   "metadata": {},
   "source": [
    "In this notebook, Data Science Tools and Ecosystem are summarized."
   ]
  },
  {
   "cell_type": "markdown",
   "id": "a66f692b",
   "metadata": {},
   "source": [
    "**Objectives:**\n",
    "\n",
    "- List popular languages for Data Science  \n",
    "- Identify commonly used libraries in Data Science  \n",
    "- Create tables and lists using Markdown  \n",
    "- Perform arithmetic operations in Python  \n",
    "- Convert minutes to hours using Python expressions  \n"
   ]
  },
  {
   "cell_type": "markdown",
   "id": "9edb932d",
   "metadata": {},
   "source": [
    "Some of the popular languages that Data Scientists use are:\n",
    "\n",
    "1. Python  \n",
    "2. R  \n",
    "3. Java \n",
    "4. C++"
   ]
  },
  {
   "cell_type": "markdown",
   "id": "cccb5d3b",
   "metadata": {},
   "source": [
    "Some of the commonly used libraries used by Data Scientists include:\n",
    "\n",
    "1. **Python**\n",
    "   - NumPy  \n",
    "   - Pandas  \n",
    "   - Scikit-learn  \n",
    "   - Matplotlib  \n",
    "\n",
    "2. **R**\n",
    "   - ggplot2  \n",
    "   - dplyr  \n",
    "   - caret  \n",
    "   - tidyr  "
   ]
  },
  {
   "cell_type": "markdown",
   "id": "5533edcf",
   "metadata": {},
   "source": [
    "| Data Science Tools        |\n",
    "|---------------------------|\n",
    "| Jupyter Notebook          |\n",
    "| RStudio                   |\n",
    "| VS Code                   |\n",
    "| Visual Studio             |"
   ]
  },
  {
   "cell_type": "markdown",
   "id": "812403be",
   "metadata": {},
   "source": [
    "### Below are a few examples of evaluating arithmetic expressions in Python.\n"
   ]
  },
  {
   "cell_type": "code",
   "execution_count": 9,
   "id": "49887e35",
   "metadata": {},
   "outputs": [
    {
     "data": {
      "text/plain": [
       "17"
      ]
     },
     "execution_count": 9,
     "metadata": {},
     "output_type": "execute_result"
    }
   ],
   "source": [
    "# This a simple arithmetic expression to mutiply then add integers\n",
    "(3*4)+5"
   ]
  },
  {
   "cell_type": "code",
   "execution_count": 10,
   "id": "25acf3b9",
   "metadata": {},
   "outputs": [
    {
     "data": {
      "text/plain": [
       "3.3333333333333335"
      ]
     },
     "execution_count": 10,
     "metadata": {},
     "output_type": "execute_result"
    }
   ],
   "source": [
    "# This will convert 200 minutes to hours by diving by 60\n",
    "mins = 200\n",
    "hrs = mins/60\n",
    "hrs"
   ]
  },
  {
   "cell_type": "markdown",
   "id": "0d5e1a20",
   "metadata": {},
   "source": [
    "## Author\n",
    "Tanishq Singh Anand"
   ]
  },
  {
   "cell_type": "markdown",
   "id": "bcb9fcb2",
   "metadata": {},
   "source": []
  }
 ],
 "metadata": {
  "kernelspec": {
   "display_name": "base",
   "language": "python",
   "name": "python3"
  },
  "language_info": {
   "codemirror_mode": {
    "name": "ipython",
    "version": 3
   },
   "file_extension": ".py",
   "mimetype": "text/x-python",
   "name": "python",
   "nbconvert_exporter": "python",
   "pygments_lexer": "ipython3",
   "version": "3.12.3"
  }
 },
 "nbformat": 4,
 "nbformat_minor": 5
}
